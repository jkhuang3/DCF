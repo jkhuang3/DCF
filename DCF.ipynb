{
 "cells": [
  {
   "cell_type": "code",
   "execution_count": null,
   "id": "f2f9f7c2-d151-45f5-bad7-4a323c07e821",
   "metadata": {},
   "outputs": [],
   "source": [
    "import numpy as np\n",
    "import pandas as pd\n",
    "import BloombergDataGrab as BDG"
   ]
  },
  {
   "cell_type": "code",
   "execution_count": 1,
   "id": "3965e081-f997-4c7c-a092-3f3c984f7214",
   "metadata": {},
   "outputs": [
    {
     "name": "stdin",
     "output_type": "stream",
     "text": [
      "Please enter a ticker:  AAPL\n",
      "Please enter a date in YYYYMMDD:  20220412\n",
      "Please enter a mode (Perpetuity or Exit Multiple):  Exit Multiple\n",
      "Please specify a time period:  4\n"
     ]
    }
   ],
   "source": [
    "tickerInput = input(\"Please enter a ticker: \")\n",
    "dateInput = input(\"Please enter a date in YYYYMMDD: \")\n",
    "modeInput = input(\"Please enter a mode (Perpetuity or Exit Multiple): \")\n",
    "times = input(\"Please specify a time period: \")"
   ]
  },
  {
   "cell_type": "code",
   "execution_count": null,
   "id": "d30bcfd8-7657-42a4-99bd-a5eb0f6a1854",
   "metadata": {},
   "outputs": [],
   "source": [
    "#This pulls all the data\n",
    "\n",
    "WACC, ETR, RevenuePrevious, RevenueCurrent, COGSCurrent, GPCurrent, EBITDACurrent, DACurrent, EBITCurrent, NWCPrevious, NWCCurrent, CapexCurrent, ARPrevious, ARCurrent, InventoryPrevious, InventoryCurrent, APPrevious, APCurrent, Cash, EM, NetDebt, Shares, LastPrice = BDG.BloombergDataGrab(tickerInput.upper() + \" US Equity\", dateInput)"
   ]
  },
  {
   "cell_type": "code",
   "execution_count": 2,
   "id": "849d0977-ceb9-4aad-9326-ea12776e0048",
   "metadata": {},
   "outputs": [],
   "source": [
    "FCFMaxYearsPerpetuity = 0\n",
    "FCFMaxYearsExitMultiple = 0"
   ]
  },
  {
   "cell_type": "code",
   "execution_count": null,
   "id": "faf36c2f-0154-4b06-962b-4810771cc7f3",
   "metadata": {},
   "outputs": [],
   "source": [
    "#This is the actual calculation, I will add the repeating part later\n",
    "#This is the initialization for all the variables \n",
    "YoYGrowth = (RevenueCurrent/RevenuePrevious) - 1"
   ]
  },
  {
   "cell_type": "code",
   "execution_count": null,
   "id": "db354754-e291-435f-afba-29e99759af63",
   "metadata": {},
   "outputs": [],
   "source": [
    "#This is the actual calculation, I will add the repeating part later\n",
    "#This is the initialization for all the variables \n",
    "YoYGrowth = (RevenueCurrent/RevenuePrevious) - 1\n",
    "\n",
    "GPMargin = (RevenueCurrent - COGSCurrent) / RevenueCurrent\n",
    "DepreciationPercent = DACurrent/RevenueCurrent\n",
    "EBITDAMargin = EBITDACurrent/RevenueCurrent"
   ]
  },
  {
   "cell_type": "code",
   "execution_count": null,
   "id": "a9972000-d18d-43f7-9e6f-f7c467142380",
   "metadata": {},
   "outputs": [],
   "source": [
    "DSO = ARCurrent/(RevenueCurrent/365)\n",
    "DIO = InventoryCurrent/(COGSCurrent/365)\n",
    "DPO = APCurrent/(COGSCurrent/365)"
   ]
  },
  {
   "cell_type": "code",
   "execution_count": null,
   "id": "773442bd-51ec-4a14-86e8-d206f336ec4a",
   "metadata": {},
   "outputs": [],
   "source": [
    "CurrentEBIT = EBITCurrent * (1-(ETR/100))\n",
    "NWC = ARCurrent + InventoryCurrent - APCurrent\n",
    "OldNWC = NWC\n",
    "ChangeNWC = NWC - (ARPrevious + InventoryPrevious - APPrevious)\n",
    "CapexPercent = (CapexCurrent/RevenueCurrent) * -1"
   ]
  },
  {
   "cell_type": "code",
   "execution_count": null,
   "id": "e4cdf6a4-b430-4020-9e10-301cceda2827",
   "metadata": {},
   "outputs": [],
   "source": [
    "FCFtoFirm = CurrentEBIT + DACurrent - (ChangeNWC + CapexCurrent)"
   ]
  },
  {
   "cell_type": "code",
   "execution_count": null,
   "id": "af50b730-93a5-4ecb-9d89-cccd91604f5a",
   "metadata": {},
   "outputs": [],
   "source": [
    "#I am now simulating the future years\n",
    "for i in range(times):\n",
    "    #This specifies that amount that each step carries\n",
    "    if times <= 5:\n",
    "        RevenueSteps = -0.01\n",
    "        GPMarginSteps = -0.001\n",
    "        EBITDASteps = -0.001\n",
    "        DepreciationSteps = -0.001\n",
    "        ARSteps = 0.1\n",
    "        InventorySteps = 0.1\n",
    "        APSteps = 0.1\n",
    "        CapexSteps = 0.001\n",
    "    else:\n",
    "        if i < 5:\n",
    "            RevenueSteps = -0.01\n",
    "            GPMarginSteps = -0.001\n",
    "            EBITDASteps = -0.001\n",
    "            DepreciationSteps = -0.001\n",
    "            ARSteps = 0.1\n",
    "            InventorySteps = 0.1\n",
    "            APSteps = 0.1\n",
    "            CapexSteps = 0.001\n",
    "        else:\n",
    "            RevenueSteps = -0.0025\n",
    "            GPMarginSteps = -0.0005\n",
    "            EBITDASteps = 0.0005\n",
    "            DepreciationSteps = 0.0005\n",
    "            ARSteps = -0.05\n",
    "            InventorySteps = -0.05\n",
    "            APSteps = -0.05\n",
    "            CapexSteps = -0.0005"
   ]
  },
  {
   "cell_type": "code",
   "execution_count": null,
   "id": "69c79f13-e890-4bc3-af8a-54738b996a72",
   "metadata": {},
   "outputs": [],
   "source": [
    "#Calculate the Revenue Growth\n",
    "YoYGrowth += RevenueSteps\n",
    "NewRevenue *= (1 + YoYGrowth)"
   ]
  },
  {
   "cell_type": "code",
   "execution_count": null,
   "id": "34096fe9-41c9-4636-8c73-196959285ce9",
   "metadata": {},
   "outputs": [],
   "source": [
    "#Calculate the EBIT Growth\n",
    "EBITDAMargin += EBITDASteps\n",
    "DepreciationPercent += DepreciationSteps\n",
    "NewDepreciation = NewRevenue * DepreciationPercent\n",
    "\n",
    "NewEBITDA = NewRevenue * EBITDAMargin\n",
    "NewEBIT = (NewRevenue * EBITDAMargin) - (NewRevenue * DepreciationPercent)\n",
    "NewForwardEBIT = NewEBIT - (NewEBIT * ETR/100)"
   ]
  },
  {
   "cell_type": "code",
   "execution_count": null,
   "id": "991b12f7-2c8c-431d-88c2-4bf1632edba1",
   "metadata": {},
   "outputs": [],
   "source": [
    "#Calculate the rest to calculate the FCF Firm Value for that years\n",
    "DSO += ARSteps\n",
    "NewAR = DSO * (NewRevenue/365)\n",
    "\n",
    "GPMargin += GPMarginSteps\n",
    "NewCOGS = (1 - GPMargin) * NewRevenue\n",
    "\n",
    "DIO += InventorySteps\n",
    "NewInventory = DIO * (NewCOGS/365)\n",
    "\n",
    "DPO += APSteps\n",
    "NewAP = DPO * (NewCOGS/365)"
   ]
  },
  {
   "cell_type": "code",
   "execution_count": null,
   "id": "31c73a9c-237c-4a96-91c1-2f170e495e5a",
   "metadata": {},
   "outputs": [],
   "source": [
    "NewNWC = NewAR + NewInventory - NewAP\n",
    "NewChangeNWC = NewNWC - OldNWC\n",
    "OldNWC = NewNWC\n",
    "\n",
    "CapexPercent += CapexSteps\n",
    "NewCapex = CapexPercent * NewRevenue"
   ]
  },
  {
   "cell_type": "code",
   "execution_count": null,
   "id": "d680c65c-2220-41d4-847b-4b746b73b7f4",
   "metadata": {},
   "outputs": [],
   "source": [
    "FCFtoFirm = NewForwardEBIT + NewDepreciation - NewChangeNWC - NewCapex\n",
    "FCFMaxYearsPerpetuity = FCFtoFirm\n",
    "\n",
    "FCFPresentValue = FCFtoFirm/((1 + WACC/100)**(i+1))\n",
    "FCFs += FCFPresentValue\n",
    "\n",
    "FCFMaxYearsExitMultiple = NewEBITDA"
   ]
  },
  {
   "cell_type": "code",
   "execution_count": null,
   "id": "97d2d62a-9771-4070-8f21-d76bd9a58f83",
   "metadata": {},
   "outputs": [],
   "source": [
    "if(mode == \"PERPETUITY\"):\n",
    "    TerminalValue = FCFMaxYearsPerpetuity * (1 + PerpetualGrowthRate)/(WACC/100 - PerpetualGrowthRate)\n",
    "else:\n",
    "    TerminalValue = EM * FCFMaxYearsExitMultiple\n",
    "\n",
    "PresentTerminalValue = TerminalValue * (1/((1 + WACC/100)**(times)))\n",
    "\n",
    "FirmValue = PresentTerminalValue + FCFs\n",
    "\n",
    "EquityValue = FirmValue - NetDebt + Cash\n",
    "\n",
    "IntrinsicValue = float((EquityValue/Shares).iloc[-1])\n",
    "\n",
    "Upside = ((IntrinsicValue-LastPrice)/float(LastPrice)) * 100"
   ]
  },
  {
   "cell_type": "code",
   "execution_count": null,
   "id": "63b7e78d-7fe9-47a5-a112-2a94d5d67ad1",
   "metadata": {},
   "outputs": [],
   "source": [
    "_str = \"The Intrinsic Value is {IntrinsicValue:.2f}\\nThe Stock Price is {LastPrice:.2f}\\nThe Potential Upside is {Upside:.2f}%\\n\".format(IntrinsicValue=IntrinsicValue, LastPrice=float(LastPrice), Upside=Upside)"
   ]
  }
 ],
 "metadata": {
  "kernelspec": {
   "display_name": "Python 3 (ipykernel)",
   "language": "python",
   "name": "python3"
  },
  "language_info": {
   "codemirror_mode": {
    "name": "ipython",
    "version": 3
   },
   "file_extension": ".py",
   "mimetype": "text/x-python",
   "name": "python",
   "nbconvert_exporter": "python",
   "pygments_lexer": "ipython3",
   "version": "3.9.7"
  }
 },
 "nbformat": 4,
 "nbformat_minor": 5
}
